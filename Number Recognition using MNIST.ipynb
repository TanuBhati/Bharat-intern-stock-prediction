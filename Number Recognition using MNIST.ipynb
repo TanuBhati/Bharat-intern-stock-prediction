{
 "cells": [
  {
   "cell_type": "code",
   "execution_count": 2,
   "id": "2721daf0",
   "metadata": {},
   "outputs": [],
   "source": [
    "import numpy as np\n",
    "import matplotlib.pyplot as plt\n",
    "import keras\n",
    "from keras.datasets import mnist\n",
    "from keras import models\n",
    "from keras import layers"
   ]
  },
  {
   "cell_type": "code",
   "execution_count": 15,
   "id": "6cdf3e66",
   "metadata": {},
   "outputs": [],
   "source": [
    "(train_images,train_labels),(test_images,test_labels)=mnist.load_data(path=\"C:\\\\Users\\\\nisha\\\\OneDrive\\\\Desktop\\\\templates\\\\no.recognition.png\")\n",
    "train_images=train_images.reshape((60000,28,28,1))"
   ]
  },
  {
   "cell_type": "code",
   "execution_count": 16,
   "id": "2aa22592",
   "metadata": {},
   "outputs": [],
   "source": [
    "train_images=train_images.astype('float32')/255\n",
    "test_images=test_images.reshape((10000,28,28,1))\n",
    "test_images=test_images.astype('float32')/255"
   ]
  },
  {
   "cell_type": "code",
   "execution_count": 17,
   "id": "e89c1667",
   "metadata": {},
   "outputs": [],
   "source": [
    "train_labels=keras.utils.to_categorical(train_labels)\n",
    "test_labels=keras.utils.to_categorical(test_labels)\n",
    "model=models.Sequential()"
   ]
  },
  {
   "cell_type": "code",
   "execution_count": 18,
   "id": "b5152e83",
   "metadata": {},
   "outputs": [],
   "source": [
    "model.add(layers.Conv2D(32,(3,3),activation='relu',input_shape=(28,28,1)))\n",
    "model.add(layers.MaxPooling2D((2,2)))"
   ]
  },
  {
   "cell_type": "code",
   "execution_count": 19,
   "id": "893cf0fa",
   "metadata": {},
   "outputs": [],
   "source": [
    "model.add(layers.Flatten())\n",
    "model.add(layers.Dense(64,activation='relu'))\n",
    "model.add(layers.Dense(10,activation='softmax'))\n",
    "model.compile(optimizer='rmsprop',loss='categorical_crossentropy',metrics=['accuracy'])"
   ]
  },
  {
   "cell_type": "code",
   "execution_count": 20,
   "id": "b5758169",
   "metadata": {},
   "outputs": [
    {
     "name": "stdout",
     "output_type": "stream",
     "text": [
      "Epoch 1/5\n",
      "938/938 [==============================] - 26s 27ms/step - loss: 0.1963 - accuracy: 0.9428 - val_loss: 0.0809 - val_accuracy: 0.9767\n",
      "Epoch 2/5\n",
      "938/938 [==============================] - 25s 26ms/step - loss: 0.0627 - accuracy: 0.9810 - val_loss: 0.0551 - val_accuracy: 0.9829\n",
      "Epoch 3/5\n",
      "938/938 [==============================] - 24s 26ms/step - loss: 0.0426 - accuracy: 0.9873 - val_loss: 0.0486 - val_accuracy: 0.9847\n",
      "Epoch 4/5\n",
      "938/938 [==============================] - 26s 28ms/step - loss: 0.0322 - accuracy: 0.9905 - val_loss: 0.0421 - val_accuracy: 0.9856\n",
      "Epoch 5/5\n",
      "938/938 [==============================] - 27s 29ms/step - loss: 0.0242 - accuracy: 0.9928 - val_loss: 0.0469 - val_accuracy: 0.9844\n"
     ]
    }
   ],
   "source": [
    "history=model.fit(train_images,train_labels,epochs=5,batch_size=64,validation_data=(test_images,test_labels))"
   ]
  },
  {
   "cell_type": "code",
   "execution_count": 21,
   "id": "ea7106c4",
   "metadata": {},
   "outputs": [
    {
     "name": "stdout",
     "output_type": "stream",
     "text": [
      "313/313 [==============================] - 2s 7ms/step - loss: 0.0469 - accuracy: 0.9844\n",
      "Test accuracy: 0.9843999743461609\n"
     ]
    }
   ],
   "source": [
    "test_loss,test_acc=model.evaluate(test_images,test_labels)\n",
    "print('Test accuracy:',test_acc)"
   ]
  }
 ],
 "metadata": {
  "kernelspec": {
   "display_name": "Python 3 (ipykernel)",
   "language": "python",
   "name": "python3"
  },
  "language_info": {
   "codemirror_mode": {
    "name": "ipython",
    "version": 3
   },
   "file_extension": ".py",
   "mimetype": "text/x-python",
   "name": "python",
   "nbconvert_exporter": "python",
   "pygments_lexer": "ipython3",
   "version": "3.11.3"
  }
 },
 "nbformat": 4,
 "nbformat_minor": 5
}
